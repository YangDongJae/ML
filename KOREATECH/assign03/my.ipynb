{
  "cells": [
    {
      "cell_type": "code",
      "execution_count": 1,
      "metadata": {
        "id": "b4dZz_X9FGRV"
      },
      "outputs": [],
      "source": [
        "import numpy as np \n",
        "import matplotlib.pyplot as plt\n",
        "\n",
        "# install\n",
        "## numpy\n",
        "## matplotlib"
      ]
    },
    {
      "cell_type": "markdown",
      "metadata": {
        "id": "Y6MaNVxpFGRX"
      },
      "source": [
        "### data load & preprocessing"
      ]
    },
    {
      "cell_type": "code",
      "execution_count": 2,
      "metadata": {
        "colab": {
          "base_uri": "https://localhost:8080/"
        },
        "id": "4g8-8OctFGRY",
        "outputId": "93022e62-a890-495a-c2b0-cefa9e110295"
      },
      "outputs": [
        {
          "name": "stdout",
          "output_type": "stream",
          "text": [
            "(60000, 1, 28, 28)\n",
            "(60000,)\n"
          ]
        }
      ],
      "source": [
        "from dataset.mnist import load_mnist\n",
        "\n",
        "(train_raw_img, train_label), (test_raw_img, test_label) = load_mnist(flatten=False, normalize=False)\n",
        "print(train_raw_img.shape)\n",
        "print(train_label.shape)"
      ]
    },
    {
      "cell_type": "code",
      "execution_count": 3,
      "metadata": {
        "id": "uQ8U02CCFGRZ",
        "outputId": "1d7515c9-e956-4bc8-dcce-a7a3a856bc34"
      },
      "outputs": [
        {
          "data": {
            "text/plain": [
              "(array([0, 1, 2, 3, 4, 5, 6, 7, 8, 9], dtype=uint8),\n",
              " array([5923, 6742, 5958, 6131, 5842, 5421, 5918, 6265, 5851, 5949]))"
            ]
          },
          "execution_count": 3,
          "metadata": {},
          "output_type": "execute_result"
        }
      ],
      "source": [
        "np.unique(train_label, return_counts=True)"
      ]
    },
    {
      "cell_type": "code",
      "execution_count": 4,
      "metadata": {
        "id": "xZnGA_YUFGRa",
        "outputId": "4dd40e63-d080-4e5e-93ef-1d857d6f8b9d"
      },
      "outputs": [],
      "source": [
        "# train_dataset split according to the number\n",
        "\n",
        "new_train_img = [[] for _ in range(10)]\n",
        "new_train_label = [[] for _ in range(10)]\n",
        "\n",
        "for i in range(len(train_label)) :\n",
        "    new_train_img[train_label[i]].append(train_raw_img[i])\n",
        "    new_train_label[train_label[i]].append(train_label[i])\n",
        "\n",
        "# print(len(new_train_img[0])) # 0에 해당하는 image 개수\n",
        "# print(new_train_img[0][0].shape) # 0에 해당하는 image중 첫번째 image의 shape"
      ]
    },
    {
      "cell_type": "markdown",
      "metadata": {
        "id": "z7tJ7XHTFGRb"
      },
      "source": [
        "### 1. Create a classifier that distinguishes between zero and non-zero (using logistic regression)"
      ]
    },
    {
      "cell_type": "code",
      "execution_count": 5,
      "metadata": {
        "id": "MYkumpg9FGRb"
      },
      "outputs": [],
      "source": [
        "def make_sample(idx) :\n",
        "    sample_img = []\n",
        "    sample_label = []\n",
        "    \n",
        "    # data sampling \n",
        "    for i in range(10) :\n",
        "        if i == idx :\n",
        "            sample_img += new_train_img[i][:1000]\n",
        "            sample_label += (new_train_label[i][:1000])\n",
        "        else :\n",
        "            sample_img += new_train_img[i][:111]\n",
        "            sample_label += (new_train_label[i][:111])\n",
        "\n",
        "    sample_img = np.array(sample_img)\n",
        "    sample_label = np.array(sample_label)\n",
        "    \n",
        "    # normalization (set value 0 ~ 1)\n",
        "    sample_img = sample_img.astype('float')/255\n",
        "    \n",
        "    # target number는 1, 아니면 0\n",
        "    sample_label = np.where(sample_label==idx, 1 ,0)\n",
        "    \n",
        "    # reshape\n",
        "    sample_img = sample_img.reshape(len(sample_img.squeeze()), -1)\n",
        "    sample_label = sample_label.reshape(len(sample_label.squeeze()), -1)\n",
        "    \n",
        "    return sample_img, sample_label"
      ]
    },
    {
      "cell_type": "code",
      "execution_count": 6,
      "metadata": {
        "id": "1IhWbvTIFGRb"
      },
      "outputs": [],
      "source": [
        "train_X, train_y = make_sample(idx = 0) # idx = target number\n",
        "train_X = np.insert(train_X, 0, 1, axis=1) # bias 추가\n",
        "\n",
        "# print(train_y.shape)"
      ]
    },
    {
      "cell_type": "code",
      "execution_count": 7,
      "metadata": {
        "id": "e8O2C8MLFGRc",
        "outputId": "28f55cf1-0bce-4c5b-8356-62b331f5aa90"
      },
      "outputs": [],
      "source": [
        "# cross entropy loss\n",
        "def CrossEntropyLoss(w, X, y) :\n",
        "    delta = 1e-7\n",
        "    \n",
        "    preds = 1 / (1+np.exp(-X.dot(w)))\n",
        "    loss = np.sum(-y*np.log(preds+delta)-(1-y)*np.log(1-preds+delta))/len(preds)\n",
        "        \n",
        "    return loss"
      ]
    },
    {
      "cell_type": "code",
      "execution_count": 8,
      "metadata": {},
      "outputs": [],
      "source": [
        "def sigmoid(z):\n",
        "    return 1 / (1 + np.exp(-z))"
      ]
    },
    {
      "cell_type": "code",
      "execution_count": 30,
      "metadata": {
        "id": "qeVJQU2RFGRc"
      },
      "outputs": [],
      "source": [
        "# train\n",
        "\n",
        "def train(X, y) :\n",
        "    \"\"\"_summary_\n",
        "\n",
        "    Args:\n",
        "        X : train_X\n",
        "        y : train_y\n",
        "\n",
        "    Returns:\n",
        "        w : weight\n",
        "    \"\"\"\n",
        "    w = np.random.randn(len(X[0]), 1)\n",
        "    lr = 0.1 # learning rate(수정 가능)\n",
        "    step = 0\n",
        "    acc = 0\n",
        "    \n",
        "    while (acc <= 0.8) :\n",
        "        step += 1\n",
        "        correct = 0\n",
        "        \n",
        "        y_pred = sigmoid(X@w)\n",
        "        grad = X.T @ (y_pred - y) / X.shape\n",
        "        w -= lr * grad \n",
        "        \n",
        "        loss = CrossEntropyLoss(w, X, y)\n",
        "        \n",
        "        if loss > 0.5:\n",
        "            correct += 1\n",
        "            \n",
        "        elif abs(loss - prev_loss) < 1e-4:\n",
        "            break\n",
        "            \n",
        "        acc = correct/len(X)\n",
        "        \n",
        "        prev_loss = loss\n",
        "        step += 1\n",
        "        \n",
        "        \n",
        "        print(\"total step : %d \" % step)\n",
        "        print(\"error : %f, accuarcy : %f\" % (loss, acc))\n",
        "        \n",
        "    return w"
      ]
    },
    {
      "cell_type": "code",
      "execution_count": 31,
      "metadata": {
        "id": "nWXi1kuJFGRc"
      },
      "outputs": [
        {
          "name": "stdout",
          "output_type": "stream",
          "text": [
            "6.080767343078435\n"
          ]
        },
        {
          "ename": "ValueError",
          "evalue": "non-broadcastable output operand with shape (785,1) doesn't match the broadcast shape (785,2)",
          "output_type": "error",
          "traceback": [
            "\u001b[0;31m---------------------------------------------------------------------------\u001b[0m",
            "\u001b[0;31mValueError\u001b[0m                                Traceback (most recent call last)",
            "Cell \u001b[0;32mIn[31], line 3\u001b[0m\n\u001b[1;32m      1\u001b[0m \u001b[39m# save weight\u001b[39;00m\n\u001b[0;32m----> 3\u001b[0m w \u001b[39m=\u001b[39m train(train_X, train_y)\n",
            "Cell \u001b[0;32mIn[30], line 26\u001b[0m, in \u001b[0;36mtrain\u001b[0;34m(X, y)\u001b[0m\n\u001b[1;32m     24\u001b[0m y_pred \u001b[39m=\u001b[39m sigmoid(X\u001b[39m@w\u001b[39m)\n\u001b[1;32m     25\u001b[0m grad \u001b[39m=\u001b[39m X\u001b[39m.\u001b[39mT \u001b[39m@\u001b[39m (y_pred \u001b[39m-\u001b[39m y) \u001b[39m/\u001b[39m X\u001b[39m.\u001b[39mshape\n\u001b[0;32m---> 26\u001b[0m w \u001b[39m-\u001b[39m\u001b[39m=\u001b[39m lr \u001b[39m*\u001b[39m grad \n\u001b[1;32m     28\u001b[0m loss \u001b[39m=\u001b[39m CrossEntropyLoss(w, X, y)\n\u001b[1;32m     30\u001b[0m \u001b[39mif\u001b[39;00m loss \u001b[39m>\u001b[39m \u001b[39m0.5\u001b[39m:\n",
            "\u001b[0;31mValueError\u001b[0m: non-broadcastable output operand with shape (785,1) doesn't match the broadcast shape (785,2)"
          ]
        }
      ],
      "source": [
        "# save weight\n",
        "\n",
        "w = train(train_X, train_y)"
      ]
    },
    {
      "cell_type": "code",
      "execution_count": 10,
      "metadata": {
        "id": "SLhEZ1GyFGRd",
        "outputId": "890ff0b8-349f-41d5-e0e7-19f7abe74dba"
      },
      "outputs": [
        {
          "name": "stdout",
          "output_type": "stream",
          "text": [
            "accuracy :  0.902\n"
          ]
        }
      ],
      "source": [
        "# eval (accuracy)\n",
        "\n",
        "def eval(idx, w) :\n",
        "    \"\"\"_summary_\n",
        "\n",
        "    Args:\n",
        "        idx : target_number\n",
        "        w : parameter\n",
        "    \"\"\"\n",
        "    test_X = test_raw_img.astype('float')/255    \n",
        "    test_X = test_X.reshape(len(test_X.squeeze()), -1)\n",
        "    test_X = np.insert(test_X, 0, 1, axis=1) # + bias\n",
        "\n",
        "    test_y = np.where(test_label==idx, 1 ,0)\n",
        "    test_y = test_y.reshape(len(test_y.squeeze()), -1)\n",
        "    \n",
        "    preds = 1/(1+np.exp(-test_X.dot(w)))\n",
        "    result = np.where(preds>0.5, 1, 0)\n",
        "    \n",
        "    acc = np.sum(np.where(result==test_y, True, False))/len(preds)\n",
        "    print('accuracy : ', acc)\n",
        "\n",
        "eval(idx=0, w=test_w)"
      ]
    },
    {
      "cell_type": "markdown",
      "metadata": {
        "id": "itKbnbmNFGRd"
      },
      "source": [
        "### 2. multi class single label classification (using logistic regression)"
      ]
    },
    {
      "cell_type": "code",
      "execution_count": null,
      "metadata": {
        "id": "ExZROSKHFGRd"
      },
      "outputs": [],
      "source": [
        "# train several binary linear regression classifier (0~9)"
      ]
    },
    {
      "cell_type": "code",
      "execution_count": null,
      "metadata": {
        "id": "mOkzi2x5FGRd",
        "outputId": "99f37103-ff9d-408a-cd92-b8ae51765f24"
      },
      "outputs": [
        {
          "name": "stdout",
          "output_type": "stream",
          "text": [
            "shape of test_X :  (10000, 785)\n",
            "shape of test_label :  (10000,)\n",
            "accuracy :  0.0\n"
          ]
        }
      ],
      "source": [
        "# eval\n",
        "\n",
        "test_X = test_raw_img.astype('float')/255    \n",
        "test_X = test_X.reshape(len(test_X.squeeze()), -1)\n",
        "test_X = np.insert(test_X, 0, 1, axis=1) # + bias\n",
        "print('shape of test_X : ', test_X.shape)\n",
        "print('shape of test_label : ', test_label.shape)\n",
        "\n",
        "# make prediction using argmax\n",
        "max_pred = None # shape : (10000,1) or (10000,)\n",
        "\n",
        "acc = np.sum(np.where(test_label==max_pred, True, False))/len(test_X)\n",
        "print('accuracy : ', acc)"
      ]
    },
    {
      "attachments": {},
      "cell_type": "markdown",
      "metadata": {},
      "source": [
        "### L2 Regularization"
      ]
    },
    {
      "cell_type": "code",
      "execution_count": null,
      "metadata": {},
      "outputs": [],
      "source": []
    }
  ],
  "metadata": {
    "colab": {
      "provenance": []
    },
    "kernelspec": {
      "display_name": "ml",
      "language": "python",
      "name": "python3"
    },
    "language_info": {
      "codemirror_mode": {
        "name": "ipython",
        "version": 3
      },
      "file_extension": ".py",
      "mimetype": "text/x-python",
      "name": "python",
      "nbconvert_exporter": "python",
      "pygments_lexer": "ipython3",
      "version": "3.9.16"
    },
    "orig_nbformat": 4,
    "vscode": {
      "interpreter": {
        "hash": "ac989702ee82cf85834fc904c407af640e06b0902e988e9cd8a067d885b3b790"
      }
    }
  },
  "nbformat": 4,
  "nbformat_minor": 0
}
