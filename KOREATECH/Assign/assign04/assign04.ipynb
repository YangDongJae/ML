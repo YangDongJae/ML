{
 "cells": [
  {
   "cell_type": "code",
   "execution_count": 48,
   "metadata": {},
   "outputs": [],
   "source": [
    "import numpy as np \n",
    "import matplotlib.pyplot as plt\n",
    "\n",
    "# install\n",
    "## numpy\n",
    "## matplotlib"
   ]
  },
  {
   "attachments": {},
   "cell_type": "markdown",
   "metadata": {},
   "source": [
    "## data load & preprocessing"
   ]
  },
  {
   "cell_type": "code",
   "execution_count": 49,
   "metadata": {},
   "outputs": [
    {
     "name": "stdout",
     "output_type": "stream",
     "text": [
      "(60000, 1, 28, 28)\n"
     ]
    }
   ],
   "source": [
    "from dataset.mnist import load_mnist\n",
    "\n",
    "(train_raw_img, train_label), (test_raw_img, test_label) = load_mnist(flatten=False, normalize=False)\n",
    "print(train_raw_img.shape)"
   ]
  },
  {
   "cell_type": "code",
   "execution_count": 50,
   "metadata": {},
   "outputs": [
    {
     "name": "stdout",
     "output_type": "stream",
     "text": [
      "(60000, 784)\n",
      "(60000, 1)\n",
      "(10000, 784)\n",
      "(10000, 1)\n"
     ]
    }
   ],
   "source": [
    "# preprocessing (train & inference)\n",
    "\n",
    "train_img = train_raw_img.reshape(len(train_raw_img.squeeze()), -1)\n",
    "train_label = train_label.reshape(len(train_label), -1)\n",
    "\n",
    "test_img = test_raw_img.reshape(len(test_raw_img.squeeze()), -1)\n",
    "test_label = test_label.reshape(len(test_label), -1)\n",
    "\n",
    "print(train_img.shape)\n",
    "print(train_label.shape)\n",
    "print(test_img.shape)\n",
    "print(test_label.shape)"
   ]
  },
  {
   "cell_type": "code",
   "execution_count": 51,
   "metadata": {},
   "outputs": [],
   "source": [
    "# normalization (set value 0 ~ 1)\n",
    "\n",
    "train_img = train_img.astype('float')\n",
    "train_img = train_img/255\n",
    "\n",
    "test_img = test_img.astype('float')\n",
    "test_img = test_img/255"
   ]
  },
  {
   "attachments": {},
   "cell_type": "markdown",
   "metadata": {},
   "source": [
    "## model"
   ]
  },
  {
   "cell_type": "code",
   "execution_count": 52,
   "metadata": {},
   "outputs": [],
   "source": [
    "class Linear :\n",
    "    def __init__(self, input_size=1, hidden_size=1) :\n",
    "        self.W = np.random.randn(input_size, hidden_size)\n",
    "        self.b = np.zeros(hidden_size)\n",
    "        self.x = None\n",
    "        self.dW = None\n",
    "        self.db =  None\n",
    "    \n",
    "    def forward(self, x) :\n",
    "        self.x = x\n",
    "        out = np.dot(x, self.W) + self.b\n",
    "        return out\n",
    "    \n",
    "    def backward(self, dout, lr) :\n",
    "        dx = np.dot(dout, self.W.T)\n",
    "        self.dW = np.dot(self.x.T, dout)\n",
    "        self.db = np.sum(dout, axis = 0)\n",
    "        self.W -= lr*self.dW\n",
    "        self.b -= lr*self.db\n",
    "        return dx"
   ]
  },
  {
   "cell_type": "code",
   "execution_count": 53,
   "metadata": {},
   "outputs": [],
   "source": [
    "class Relu :\n",
    "    def __init__(self) :\n",
    "        self.mask = None\n",
    "    \n",
    "    def forward(self, x) :\n",
    "        self.mask = (x < 0)\n",
    "        out = x.copy()\n",
    "        out[self.mask] = 0\n",
    "        return out\n",
    "    \n",
    "    def backward(self, dout) :\n",
    "        dout[self.mask] = 0\n",
    "        return dout                                                                                                                                                                                                                                                                                                                                                                "
   ]
  },
  {
   "cell_type": "code",
   "execution_count": 54,
   "metadata": {},
   "outputs": [],
   "source": [
    "class softmax_with_crossEntropy :\n",
    "    def __init__(self) :\n",
    "        self.delta = 1e-7\n",
    "        # softmax\n",
    "        self.softmax_x = None\n",
    "        self.softmax_out = None\n",
    "        # crossEntropy\n",
    "        self.pred = None\n",
    "        self.target = None\n",
    "        \n",
    "    def softmax_forward(self, x) :\n",
    "        self.softmax_x = x\n",
    "        # subtracting the maximum value for numerical stability\n",
    "        exp_x = np.exp(x - np.max(x, axis=-1, keepdims=True))\n",
    "        self.softmax_out = exp_x / np.sum(exp_x, axis=-1, keepdims=True)\n",
    "        return self.softmax_out\n",
    "\n",
    "    def crossEntropy_forward(self, pred, target) :\n",
    "        self.pred = pred\n",
    "        self.target = target\n",
    "        # avoid log(0) by adding delta\n",
    "        loss = -np.sum(target * np.log(pred + self.delta))\n",
    "        return loss\n",
    "    \n",
    "    \n",
    "    def backward(self):\n",
    "        batch_size = self.pred.shape[0]\n",
    "        dx = (self.pred - self.target) / batch_size\n",
    "        return dx"
   ]
  },
  {
   "attachments": {},
   "cell_type": "markdown",
   "metadata": {},
   "source": [
    "## Train"
   ]
  },
  {
   "attachments": {},
   "cell_type": "markdown",
   "metadata": {},
   "source": [
    "### base"
   ]
  },
  {
   "cell_type": "code",
   "execution_count": 55,
   "metadata": {},
   "outputs": [],
   "source": [
    "# one_hot label 만드는 함수\n",
    "\n",
    "def make_one_hot(labels) :\n",
    "    a = []\n",
    "    for label in labels :\n",
    "        one_hot = np.zeros(10)\n",
    "        one_hot[label] = 1\n",
    "        a.append(one_hot)\n",
    "    a = np.array(a)\n",
    "    return a\n",
    "\n",
    "# one_hot_labels = make_one_hot(train_label)\n",
    "# print(train_label[0])\n",
    "# print(one_hot_labels[0])"
   ]
  },
  {
   "cell_type": "code",
   "execution_count": 56,
   "metadata": {},
   "outputs": [],
   "source": [
    "# train version 1\n",
    "\n",
    "from collections import OrderedDict\n",
    "\n",
    "def train_MLP(config) :\n",
    "    lr, num_epoch = config['learning_rate'], config['num_epoch']\n",
    "    print_loss_interval = 1\n",
    "    \n",
    "    layer1 = Linear(784, 100)\n",
    "    relu = Relu()\n",
    "    layer2 = Linear(100, 10)\n",
    "    softmax_with_CE = softmax_with_crossEntropy()\n",
    "    \n",
    "    iter_lst = list()\n",
    "    loss_lst = list()\n",
    "    Non_weight_lsit = list()\n",
    "    \n",
    "    for iter in range(num_epoch) :\n",
    "        # forward\n",
    "        x = layer1.forward(train_img)\n",
    "        x = relu.forward(x)\n",
    "        x = layer2.forward(x)\n",
    "        preds = softmax_with_CE.softmax_forward(x)\n",
    "        \n",
    "        # loss\n",
    "        one_hot_labels = make_one_hot(train_label)\n",
    "        losses = softmax_with_CE.crossEntropy_forward(preds, one_hot_labels)\n",
    "        loss = losses.sum()/len(preds)\n",
    "        \n",
    "        if iter % print_loss_interval == 0:\n",
    "            print(\"[epoch %d / %d] average loss : %f\" % (iter, num_epoch, loss))\n",
    "            \n",
    "        iter_lst.append(iter)\n",
    "        loss_lst.append(loss)\n",
    "        \n",
    "        # backward\n",
    "        dL = softmax_with_CE.backward()\n",
    "        Non_weight_lsit.append(np.sum(dL))\n",
    "        dL = layer2.backward(dL, lr)\n",
    "        dL = relu.backward(dL)\n",
    "        dL = layer1.backward(dL, lr)\n",
    "                     \n",
    "    model = OrderedDict()\n",
    "    model['layer1'] = layer1\n",
    "    model['relu'] = relu\n",
    "    model['layer2'] = layer2\n",
    "    model['softmax_with_CE'] = softmax_with_CE\n",
    "    \n",
    "    return model,iter_lst, loss_lst,Non_weight_lsit"
   ]
  },
  {
   "cell_type": "code",
   "execution_count": 57,
   "metadata": {},
   "outputs": [
    {
     "name": "stdout",
     "output_type": "stream",
     "text": [
      "[epoch 0 / 100] average loss : 14.019757\n",
      "[epoch 1 / 100] average loss : 13.296791\n",
      "[epoch 2 / 100] average loss : 12.557627\n",
      "[epoch 3 / 100] average loss : 11.585203\n",
      "[epoch 4 / 100] average loss : 10.455917\n",
      "[epoch 5 / 100] average loss : 9.761320\n",
      "[epoch 6 / 100] average loss : 9.101266\n",
      "[epoch 7 / 100] average loss : 8.604417\n",
      "[epoch 8 / 100] average loss : 8.134574\n",
      "[epoch 9 / 100] average loss : 7.736887\n",
      "[epoch 10 / 100] average loss : 7.369843\n",
      "[epoch 11 / 100] average loss : 7.053709\n",
      "[epoch 12 / 100] average loss : 6.766511\n",
      "[epoch 13 / 100] average loss : 6.514575\n",
      "[epoch 14 / 100] average loss : 6.283364\n",
      "[epoch 15 / 100] average loss : 6.079482\n",
      "[epoch 16 / 100] average loss : 5.892703\n",
      "[epoch 17 / 100] average loss : 5.724786\n",
      "[epoch 18 / 100] average loss : 5.571097\n",
      "[epoch 19 / 100] average loss : 5.430092\n",
      "[epoch 20 / 100] average loss : 5.300274\n",
      "[epoch 21 / 100] average loss : 5.179350\n",
      "[epoch 22 / 100] average loss : 5.066183\n",
      "[epoch 23 / 100] average loss : 4.959905\n",
      "[epoch 24 / 100] average loss : 4.860074\n",
      "[epoch 25 / 100] average loss : 4.766254\n",
      "[epoch 26 / 100] average loss : 4.678213\n",
      "[epoch 27 / 100] average loss : 4.595531\n",
      "[epoch 28 / 100] average loss : 4.517527\n",
      "[epoch 29 / 100] average loss : 4.443633\n",
      "[epoch 30 / 100] average loss : 4.373420\n",
      "[epoch 31 / 100] average loss : 4.306712\n",
      "[epoch 32 / 100] average loss : 4.243252\n",
      "[epoch 33 / 100] average loss : 4.182757\n",
      "[epoch 34 / 100] average loss : 4.125059\n",
      "[epoch 35 / 100] average loss : 4.069907\n",
      "[epoch 36 / 100] average loss : 4.017064\n",
      "[epoch 37 / 100] average loss : 3.966342\n",
      "[epoch 38 / 100] average loss : 3.917617\n",
      "[epoch 39 / 100] average loss : 3.870813\n",
      "[epoch 40 / 100] average loss : 3.825797\n",
      "[epoch 41 / 100] average loss : 3.782403\n",
      "[epoch 42 / 100] average loss : 3.740549\n",
      "[epoch 43 / 100] average loss : 3.700156\n",
      "[epoch 44 / 100] average loss : 3.661130\n",
      "[epoch 45 / 100] average loss : 3.623358\n",
      "[epoch 46 / 100] average loss : 3.586764\n",
      "[epoch 47 / 100] average loss : 3.551313\n",
      "[epoch 48 / 100] average loss : 3.516895\n",
      "[epoch 49 / 100] average loss : 3.483419\n",
      "[epoch 50 / 100] average loss : 3.450852\n",
      "[epoch 51 / 100] average loss : 3.419139\n",
      "[epoch 52 / 100] average loss : 3.388251\n",
      "[epoch 53 / 100] average loss : 3.358157\n",
      "[epoch 54 / 100] average loss : 3.328837\n",
      "[epoch 55 / 100] average loss : 3.300252\n",
      "[epoch 56 / 100] average loss : 3.272428\n",
      "[epoch 57 / 100] average loss : 3.245350\n",
      "[epoch 58 / 100] average loss : 3.218995\n",
      "[epoch 59 / 100] average loss : 3.193343\n",
      "[epoch 60 / 100] average loss : 3.168340\n",
      "[epoch 61 / 100] average loss : 3.143993\n",
      "[epoch 62 / 100] average loss : 3.120285\n",
      "[epoch 63 / 100] average loss : 3.097184\n",
      "[epoch 64 / 100] average loss : 3.074642\n",
      "[epoch 65 / 100] average loss : 3.052642\n",
      "[epoch 66 / 100] average loss : 3.031145\n",
      "[epoch 67 / 100] average loss : 3.010130\n",
      "[epoch 68 / 100] average loss : 2.989576\n",
      "[epoch 69 / 100] average loss : 2.969448\n",
      "[epoch 70 / 100] average loss : 2.949733\n",
      "[epoch 71 / 100] average loss : 2.930426\n",
      "[epoch 72 / 100] average loss : 2.911515\n",
      "[epoch 73 / 100] average loss : 2.892988\n",
      "[epoch 74 / 100] average loss : 2.874830\n",
      "[epoch 75 / 100] average loss : 2.857041\n",
      "[epoch 76 / 100] average loss : 2.839611\n",
      "[epoch 77 / 100] average loss : 2.822531\n",
      "[epoch 78 / 100] average loss : 2.805786\n",
      "[epoch 79 / 100] average loss : 2.789368\n",
      "[epoch 80 / 100] average loss : 2.773290\n",
      "[epoch 81 / 100] average loss : 2.757543\n",
      "[epoch 82 / 100] average loss : 2.742093\n",
      "[epoch 83 / 100] average loss : 2.726933\n",
      "[epoch 84 / 100] average loss : 2.712057\n",
      "[epoch 85 / 100] average loss : 2.697460\n",
      "[epoch 86 / 100] average loss : 2.683132\n",
      "[epoch 87 / 100] average loss : 2.669067\n",
      "[epoch 88 / 100] average loss : 2.655264\n",
      "[epoch 89 / 100] average loss : 2.641696\n",
      "[epoch 90 / 100] average loss : 2.628362\n",
      "[epoch 91 / 100] average loss : 2.615249\n",
      "[epoch 92 / 100] average loss : 2.602347\n",
      "[epoch 93 / 100] average loss : 2.589642\n",
      "[epoch 94 / 100] average loss : 2.577133\n",
      "[epoch 95 / 100] average loss : 2.564819\n",
      "[epoch 96 / 100] average loss : 2.552683\n",
      "[epoch 97 / 100] average loss : 2.540721\n",
      "[epoch 98 / 100] average loss : 2.528936\n",
      "[epoch 99 / 100] average loss : 2.517332\n"
     ]
    }
   ],
   "source": [
    "config = { 'learning_rate' : 0.1,\n",
    "            'num_epoch' : 100\n",
    "          }\n",
    "\n",
    "model,iter_lst, loss_lst,Non_weight_lsit = train_MLP(config)"
   ]
  },
  {
   "cell_type": "code",
   "execution_count": 58,
   "metadata": {},
   "outputs": [
    {
     "data": {
      "image/png": "[encoded data removed]",
      "text/plain": [
       "<Figure size 640x480 with 1 Axes>"
      ]
     },
     "metadata": {},
     "output_type": "display_data"
    }
   ],
   "source": [
    "plt.plot(iter_lst, loss_lst)\n",
    "plt.title(\"Loss vs. Iteration\")\n",
    "plt.xlabel(\"Iteration\")\n",
    "plt.ylabel(\"Loss\")\n",
    "plt.show()"
   ]
  },
  {
   "cell_type": "code",
   "execution_count": 59,
   "metadata": {},
   "outputs": [
    {
     "name": "stdout",
     "output_type": "stream",
     "text": [
      "In train dataset ... \n",
      "\t Accuracy : 0.7830666666666667\n",
      "\n",
      "In test dataset ... \n",
      "\t Accuracy : 0.7901\n",
      "\n"
     ]
    }
   ],
   "source": [
    "def eval(model, train_version = True) :\n",
    "    if train_version :\n",
    "        x = train_img\n",
    "        labels = train_label.squeeze()\n",
    "        print('In train dataset ... ')\n",
    "    else : \n",
    "        x = test_img\n",
    "        labels = test_label.squeeze()\n",
    "        print('\\nIn test dataset ... ')\n",
    "    \n",
    "    for layer in model.values() :\n",
    "        if isinstance(layer, softmax_with_crossEntropy) :\n",
    "            x = layer.softmax_forward(x)\n",
    "        else :\n",
    "            x = layer.forward(x)\n",
    "            \n",
    "    preds = x.argmax(axis=1)\n",
    "    acc = np.sum(np.where(preds==labels, True, False))/len(labels)\n",
    "    return acc\n",
    "\n",
    "print('\\t Accuracy :', eval(model, train_version=True))\n",
    "print('\\t Accuracy :', eval(model, train_version=False))\n",
    "print()"
   ]
  },
  {
   "attachments": {},
   "cell_type": "markdown",
   "metadata": {},
   "source": [
    "### regularization"
   ]
  },
  {
   "cell_type": "code",
   "execution_count": 60,
   "metadata": {},
   "outputs": [],
   "source": [
    "class Linear:\n",
    "    def __init__(self, input_size=1, hidden_size=1):\n",
    "        self.W = np.random.randn(input_size, hidden_size)\n",
    "        self.b = np.zeros(hidden_size)\n",
    "        self.x = None\n",
    "        self.dW = None\n",
    "        self.db = None\n",
    "    \n",
    "    def forward(self, x):\n",
    "        self.x = x\n",
    "        out = np.dot(x, self.W) + self.b\n",
    "        return out\n",
    "    \n",
    "    def backward(self, dout, lr, lambda_reg=0.01):\n",
    "        dx = np.dot(dout, self.W.T)\n",
    "        self.dW = np.dot(self.x.T, dout) + lambda_reg * self.W\n",
    "        self.db = np.sum(dout, axis=0)\n",
    "        self.W -= lr * self.dW\n",
    "        self.b -= lr * self.db \n",
    "        return dx\n"
   ]
  },
  {
   "cell_type": "code",
   "execution_count": 61,
   "metadata": {},
   "outputs": [],
   "source": [
    "class MLP_Classifier :\n",
    "    def __init__(self) :\n",
    "        self.delta = 1e-7\n",
    "        # softmax\n",
    "        self.softmax_x = None\n",
    "        self.softmax_out = None\n",
    "        # crossEntropy\n",
    "        self.pred = None\n",
    "        self.target = None\n",
    "        self.alpha = 0.001\n",
    "        \n",
    "    def softmax_forward(self, x) :\n",
    "        self.softmax_x = x\n",
    "        # subtracting the maximum value for numerical stability\n",
    "        exp_x = np.exp(x - np.max(x, axis=-1, keepdims=True))\n",
    "        self.softmax_out = exp_x / np.sum(exp_x, axis=-1, keepdims=True)\n",
    "        return self.softmax_out\n",
    "    \n",
    "    def crossEntropy_forward(self, pred, target) :\n",
    "        self.pred = pred\n",
    "        self.target = target\n",
    "        # avoid log(0) by adding delta\n",
    "        reg_term = 0.5 * self.alpha * np.sum(pred**2)\n",
    "        loss = -np.sum(target * np.log(pred + self.delta)) / len(pred) + reg_term\n",
    "        return loss\n",
    "    \n",
    "    \n",
    "    def backward(self):\n",
    "        batch_size = self.pred.shape[0]\n",
    "        dx = (self.pred - self.target) / batch_size\n",
    "        return dx"
   ]
  },
  {
   "cell_type": "code",
   "execution_count": 62,
   "metadata": {},
   "outputs": [],
   "source": [
    "\n",
    "# train version 1\n",
    "\n",
    "from collections import OrderedDict\n",
    "\n",
    "def train_MLP(config) :\n",
    "    lr, num_epoch,model = config['learning_rate'], config['num_epoch'], config['model']\n",
    "    print_loss_interval = 1\n",
    "    \n",
    "    layer1 = Linear(784, 100)\n",
    "    relu = Relu()\n",
    "    layer2 = Linear(100, 10)\n",
    "    softmax_with_CE = model\n",
    "    \n",
    "    loss_lst = list()\n",
    "    iter_lst = list()\n",
    "    weight_list = list()\n",
    "    \n",
    "    for iter in range(num_epoch) :\n",
    "        # forward\n",
    "        x = layer1.forward(train_img)\n",
    "        x = relu.forward(x)\n",
    "        x = layer2.forward(x)\n",
    "        preds = softmax_with_CE.softmax_forward(x)\n",
    "        \n",
    "        # loss\n",
    "        one_hot_labels = make_one_hot(train_label)\n",
    "        losses = softmax_with_CE.crossEntropy_forward(preds, one_hot_labels)\n",
    "        loss = losses.sum()/len(preds)\n",
    "        \n",
    "        if iter % print_loss_interval == 0:\n",
    "            print(\"[epoch %d / %d] average loss : %f\" % (iter, num_epoch, loss))\n",
    "        \n",
    "        loss_lst.append(loss)\n",
    "        iter_lst.append(iter)\n",
    "        \n",
    "        # backward\n",
    "        dL = softmax_with_CE.backward()\n",
    "        weight_list.append(np.sum(dL))\n",
    "        dL = layer2.backward(dL, lr)\n",
    "        dL = relu.backward(dL)\n",
    "        dL = layer1.backward(dL,lr)\n",
    "\n",
    "        \n",
    "    model = OrderedDict()\n",
    "    model['layer1'] = layer1\n",
    "    model['relu'] = relu\n",
    "    model['layer2'] = layer2\n",
    "    model['softmax_with_CE'] = softmax_with_CE\n",
    "    \n",
    "    return model, loss_lst, iter_lst, weight_list"
   ]
  },
  {
   "cell_type": "code",
   "execution_count": 63,
   "metadata": {},
   "outputs": [
    {
     "name": "stdout",
     "output_type": "stream",
     "text": [
      "[epoch 0 / 100] average loss : 0.000723\n",
      "[epoch 1 / 100] average loss : 0.000706\n",
      "[epoch 2 / 100] average loss : 0.000681\n",
      "[epoch 3 / 100] average loss : 0.000672\n",
      "[epoch 4 / 100] average loss : 0.000654\n",
      "[epoch 5 / 100] average loss : 0.000644\n",
      "[epoch 6 / 100] average loss : 0.000633\n",
      "[epoch 7 / 100] average loss : 0.000624\n",
      "[epoch 8 / 100] average loss : 0.000615\n",
      "[epoch 9 / 100] average loss : 0.000608\n",
      "[epoch 10 / 100] average loss : 0.000601\n",
      "[epoch 11 / 100] average loss : 0.000596\n",
      "[epoch 12 / 100] average loss : 0.000591\n",
      "[epoch 13 / 100] average loss : 0.000586\n",
      "[epoch 14 / 100] average loss : 0.000583\n",
      "[epoch 15 / 100] average loss : 0.000579\n",
      "[epoch 16 / 100] average loss : 0.000576\n",
      "[epoch 17 / 100] average loss : 0.000574\n",
      "[epoch 18 / 100] average loss : 0.000571\n",
      "[epoch 19 / 100] average loss : 0.000569\n",
      "[epoch 20 / 100] average loss : 0.000567\n",
      "[epoch 21 / 100] average loss : 0.000564\n",
      "[epoch 22 / 100] average loss : 0.000563\n",
      "[epoch 23 / 100] average loss : 0.000561\n",
      "[epoch 24 / 100] average loss : 0.000559\n",
      "[epoch 25 / 100] average loss : 0.000558\n",
      "[epoch 26 / 100] average loss : 0.000557\n",
      "[epoch 27 / 100] average loss : 0.000555\n",
      "[epoch 28 / 100] average loss : 0.000554\n",
      "[epoch 29 / 100] average loss : 0.000553\n",
      "[epoch 30 / 100] average loss : 0.000552\n",
      "[epoch 31 / 100] average loss : 0.000551\n",
      "[epoch 32 / 100] average loss : 0.000550\n",
      "[epoch 33 / 100] average loss : 0.000549\n",
      "[epoch 34 / 100] average loss : 0.000548\n",
      "[epoch 35 / 100] average loss : 0.000547\n",
      "[epoch 36 / 100] average loss : 0.000546\n",
      "[epoch 37 / 100] average loss : 0.000545\n",
      "[epoch 38 / 100] average loss : 0.000544\n",
      "[epoch 39 / 100] average loss : 0.000544\n",
      "[epoch 40 / 100] average loss : 0.000543\n",
      "[epoch 41 / 100] average loss : 0.000542\n",
      "[epoch 42 / 100] average loss : 0.000542\n",
      "[epoch 43 / 100] average loss : 0.000541\n",
      "[epoch 44 / 100] average loss : 0.000540\n",
      "[epoch 45 / 100] average loss : 0.000540\n",
      "[epoch 46 / 100] average loss : 0.000539\n",
      "[epoch 47 / 100] average loss : 0.000538\n",
      "[epoch 48 / 100] average loss : 0.000538\n",
      "[epoch 49 / 100] average loss : 0.000537\n",
      "[epoch 50 / 100] average loss : 0.000537\n",
      "[epoch 51 / 100] average loss : 0.000536\n",
      "[epoch 52 / 100] average loss : 0.000536\n",
      "[epoch 53 / 100] average loss : 0.000535\n",
      "[epoch 54 / 100] average loss : 0.000535\n",
      "[epoch 55 / 100] average loss : 0.000534\n",
      "[epoch 56 / 100] average loss : 0.000534\n",
      "[epoch 57 / 100] average loss : 0.000533\n",
      "[epoch 58 / 100] average loss : 0.000533\n",
      "[epoch 59 / 100] average loss : 0.000533\n",
      "[epoch 60 / 100] average loss : 0.000532\n",
      "[epoch 61 / 100] average loss : 0.000532\n",
      "[epoch 62 / 100] average loss : 0.000532\n",
      "[epoch 63 / 100] average loss : 0.000531\n",
      "[epoch 64 / 100] average loss : 0.000531\n",
      "[epoch 65 / 100] average loss : 0.000531\n",
      "[epoch 66 / 100] average loss : 0.000530\n",
      "[epoch 67 / 100] average loss : 0.000530\n",
      "[epoch 68 / 100] average loss : 0.000530\n",
      "[epoch 69 / 100] average loss : 0.000529\n",
      "[epoch 70 / 100] average loss : 0.000529\n",
      "[epoch 71 / 100] average loss : 0.000529\n",
      "[epoch 72 / 100] average loss : 0.000528\n",
      "[epoch 73 / 100] average loss : 0.000528\n",
      "[epoch 74 / 100] average loss : 0.000528\n",
      "[epoch 75 / 100] average loss : 0.000528\n",
      "[epoch 76 / 100] average loss : 0.000527\n",
      "[epoch 77 / 100] average loss : 0.000527\n",
      "[epoch 78 / 100] average loss : 0.000527\n",
      "[epoch 79 / 100] average loss : 0.000526\n",
      "[epoch 80 / 100] average loss : 0.000526\n",
      "[epoch 81 / 100] average loss : 0.000526\n",
      "[epoch 82 / 100] average loss : 0.000526\n",
      "[epoch 83 / 100] average loss : 0.000525\n",
      "[epoch 84 / 100] average loss : 0.000525\n",
      "[epoch 85 / 100] average loss : 0.000525\n",
      "[epoch 86 / 100] average loss : 0.000525\n",
      "[epoch 87 / 100] average loss : 0.000524\n",
      "[epoch 88 / 100] average loss : 0.000524\n",
      "[epoch 89 / 100] average loss : 0.000524\n",
      "[epoch 90 / 100] average loss : 0.000524\n",
      "[epoch 91 / 100] average loss : 0.000523\n",
      "[epoch 92 / 100] average loss : 0.000523\n",
      "[epoch 93 / 100] average loss : 0.000523\n",
      "[epoch 94 / 100] average loss : 0.000523\n",
      "[epoch 95 / 100] average loss : 0.000522\n",
      "[epoch 96 / 100] average loss : 0.000522\n",
      "[epoch 97 / 100] average loss : 0.000522\n",
      "[epoch 98 / 100] average loss : 0.000522\n",
      "[epoch 99 / 100] average loss : 0.000522\n"
     ]
    }
   ],
   "source": [
    "config = { 'model' : MLP_Classifier(),\n",
    "            'learning_rate' : 0.1,\n",
    "            'num_epoch' : 100\n",
    "          }\n",
    "\n",
    "model, loss_lst, iter_lst,weight_list = train_MLP(config)"
   ]
  },
  {
   "cell_type": "code",
   "execution_count": 64,
   "metadata": {},
   "outputs": [
    {
     "data": {
      "image/png": "[encoded data removed]",
      "text/plain": [
       "<Figure size 640x480 with 1 Axes>"
      ]
     },
     "metadata": {},
     "output_type": "display_data"
    }
   ],
   "source": [
    "plt.plot(iter_lst, loss_lst)\n",
    "plt.title(\"Loss vs. Iteration\")\n",
    "plt.xlabel(\"Iteration\")\n",
    "plt.ylabel(\"Loss\")\n",
    "plt.show()"
   ]
  },
  {
   "cell_type": "code",
   "execution_count": 71,
   "metadata": {},
   "outputs": [
    {
     "data": {
      "image/png": "[encoded data removed]",
      "text/plain": [
       "<Figure size 640x480 with 1 Axes>"
      ]
     },
     "metadata": {},
     "output_type": "display_data"
    }
   ],
   "source": [
    "plt.plot(Non_weight_lsit)\n",
    "plt.title(\"Not applied in Regluarization\")\n",
    "plt.xlabel(\"Iteration\")\n",
    "plt.ylabel(\"Weight\")\n",
    "plt.show()"
   ]
  },
  {
   "cell_type": "code",
   "execution_count": 72,
   "metadata": {},
   "outputs": [
    {
     "data": {
      "image/png": "[encoded data removed]",
      "text/plain": [
       "<Figure size 640x480 with 1 Axes>"
      ]
     },
     "metadata": {},
     "output_type": "display_data"
    }
   ],
   "source": [
    "plt.plot(weight_list)\n",
    "plt.title(\"L2 Regularization\")\n",
    "plt.xlabel(\"Iteration\")\n",
    "plt.ylabel(\"Weight\")\n",
    "plt.show()"
   ]
  },
  {
   "cell_type": "code",
   "execution_count": 66,
   "metadata": {},
   "outputs": [
    {
     "name": "stdout",
     "output_type": "stream",
     "text": [
      "In train dataset ... \n",
      "\t Accuracy : 0.7913\n",
      "\n",
      "In test dataset ... \n",
      "\t Accuracy : 0.8006\n",
      "\n"
     ]
    }
   ],
   "source": [
    "def eval(model, train_version = True) :\n",
    "    if train_version :\n",
    "        x = train_img\n",
    "        labels = train_label.squeeze()\n",
    "        print('In train dataset ... ')\n",
    "    else : \n",
    "        x = test_img\n",
    "        labels = test_label.squeeze()\n",
    "        print('\\nIn test dataset ... ')\n",
    "    \n",
    "    for layer in model.values() :\n",
    "        if isinstance(layer, MLP_Classifier) :\n",
    "            x = layer.softmax_forward(x)\n",
    "        else :\n",
    "            x = layer.forward(x)\n",
    "            \n",
    "    preds = x.argmax(axis=1)\n",
    "    acc = np.sum(np.where(preds==labels, True, False))/len(labels)\n",
    "    return acc\n",
    "\n",
    "print('\\t Accuracy :', eval(model, train_version=True))\n",
    "print('\\t Accuracy :', eval(model, train_version=False))\n",
    "print()"
   ]
  }
 ],
 "metadata": {
  "kernelspec": {
   "display_name": "ml",
   "language": "python",
   "name": "python3"
  },
  "language_info": {
   "codemirror_mode": {
    "name": "ipython",
    "version": 3
   },
   "file_extension": ".py",
   "mimetype": "text/x-python",
   "name": "python",
   "nbconvert_exporter": "python",
   "pygments_lexer": "ipython3",
   "version": "3.9.16"
  },
  "orig_nbformat": 4,
  "vscode": {
   "interpreter": {
    "hash": "ac989702ee82cf85834fc904c407af640e06b0902e988e9cd8a067d885b3b790"
   }
  }
 },
 "nbformat": 4,
 "nbformat_minor": 2
}
