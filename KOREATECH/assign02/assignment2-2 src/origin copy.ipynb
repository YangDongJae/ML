{
  "cells": [
    {
      "cell_type": "markdown",
      "metadata": {
        "id": "CwNsy_dJU0wJ"
      },
      "source": [
        "# 실습 2"
      ]
    },
    {
      "cell_type": "code",
      "execution_count": null,
      "metadata": {
        "id": "L1y3NWMrU0wK"
      },
      "outputs": [],
      "source": [
        "import numpy as np\n",
        "import matplotlib.pyplot as plt"
      ]
    },
    {
      "cell_type": "code",
      "execution_count": null,
      "metadata": {
        "id": "zUdUTYVTU0wK"
      },
      "outputs": [],
      "source": [
        "# data load\n",
        "\n",
        "import pandas as pd\n",
        "\n",
        "pd_data=pd.read_excel(\"Concrete_Data.xls\")\n",
        "\n",
        "print(pd_data.shape)\n",
        "pd_data.describe()"
      ]
    },
    {
      "cell_type": "code",
      "execution_count": null,
      "metadata": {},
      "outputs": [],
      "source": [
        "pd_data.columns"
      ]
    },
    {
      "cell_type": "code",
      "execution_count": null,
      "metadata": {},
      "outputs": [],
      "source": [
        "pd_data = pd_data.rename({pd_data.columns[0]:'Cement',\n",
        "                          pd_data.columns[1]:'BFS',\n",
        "                          pd_data.columns[2]:'Fly_Ash',\n",
        "                          pd_data.columns[3]:'Water',\n",
        "                          pd_data.columns[4]: 'Superplasticizer',\n",
        "                          pd_data.columns[5]: 'Coarse_Aggregate',\n",
        "                          pd_data.columns[6]: 'Fine Aggregate',\n",
        "                          pd_data.columns[7]: 'Age',\n",
        "                          pd_data.columns[8]: 'y'\n",
        "                          },axis = 1)"
      ]
    },
    {
      "cell_type": "code",
      "execution_count": null,
      "metadata": {},
      "outputs": [],
      "source": [
        "pd_data"
      ]
    },
    {
      "cell_type": "code",
      "execution_count": null,
      "metadata": {
        "id": "WV8zMwMgU0wK"
      },
      "outputs": [],
      "source": [
        "# normalization\n",
        "\n",
        "normalization_data = (pd_data - pd_data.min())/(pd_data.max()-pd_data.min())\n",
        "normalization_data.describe()"
      ]
    },
    {
      "cell_type": "code",
      "execution_count": null,
      "metadata": {},
      "outputs": [],
      "source": [
        "normalization_data"
      ]
    },
    {
      "cell_type": "code",
      "execution_count": null,
      "metadata": {
        "id": "wtyYV7PxWIpP"
      },
      "outputs": [],
      "source": [
        "np_data = normalization_data.to_numpy()\n",
        "X,y= np_data[:,:8], np_data[:,8:]\n",
        "\n",
        "pd.DataFrame(X)"
      ]
    },
    {
      "cell_type": "code",
      "execution_count": null,
      "metadata": {},
      "outputs": [],
      "source": [
        "X = np.append(X, np.ones((len(X), 1)), axis=1) # bias\n",
        "X.shape"
      ]
    },
    {
      "cell_type": "markdown",
      "metadata": {
        "id": "SfYrvDvrWQ1G"
      },
      "source": [
        "### gradient descent"
      ]
    },
    {
      "cell_type": "code",
      "execution_count": null,
      "metadata": {
        "id": "Bx7GSpgpWOOV"
      },
      "outputs": [],
      "source": [
        "w = np.zeros(9) # w, bias\n",
        "\n",
        "print(w.shape)"
      ]
    },
    {
      "cell_type": "code",
      "execution_count": null,
      "metadata": {
        "id": "Ie83hv4rWaOs"
      },
      "outputs": [],
      "source": [
        "def mse(w, X, y) :\n",
        "    preds = X.dot(w)\n",
        "    loss = 0.5*np.sum((preds-y)**2)/len(X)\n",
        "    return loss\n",
        "\n",
        "err = mse(w, X, y)\n",
        "err"
      ]
    },
    {
      "cell_type": "code",
      "execution_count": null,
      "metadata": {},
      "outputs": [],
      "source": [
        "def LR_Cosfunction(X,y,weight):\n",
        "    \n",
        "    m = np.size(y)\n",
        "    a = 1/(2 * m)\n",
        "    b = np.sum(((X@weight) - y) **2)\n",
        "    j = (a) * b\n",
        "    \n",
        "    return j\n",
        "\n",
        "def gradient(x,y, weight):\n",
        "    alpha = 0.00001\n",
        "    iteration = 2000\n",
        "    m = np.size(X[0])\n",
        "    \n",
        "    J_history = np.zeros([iteration, 1])\n",
        "    \n",
        "    for iter in range(0, iteration):\n",
        "        \n",
        "        error = (x @ weight) - y\n",
        "        temp0 = weight[0] - ((alpha / m) * np.sum(error * x [:,0]))\n",
        "        temp1 = weight[1] - ((alpha / m) * np.sum(error * x[:,1]))\n",
        "        temp2 = weight[2] - ((alpha / m) * np.sum(error * x[:,2]))\n",
        "        temp3 = weight[3] - ((alpha / m) * np.sum(error * x [:,3]))\n",
        "        temp4 = weight[4] - ((alpha / m) * np.sum(error * x[:,4]))\n",
        "        temp5 = weight[5] - ((alpha / m) * np.sum(error * x [:,5]))\n",
        "        temp6 = weight[6] - ((alpha / m) * np.sum(error * x[:,6]))\n",
        "        temp7 = weight[7] - ((alpha / m) * np.sum(error * x [:,7]))        \n",
        "        temp8 = weight[8] - ((alpha / m) * np.sum(error * x [:,8]))                                \n",
        "        weight = np.array([temp0, temp1,temp2,temp3,temp4,temp5,temp6,temp7,temp8]).reshape(x.shape[1],x.shape[0])\n",
        "        \n",
        "        \n",
        "        J_history[iter] = (1/(2 * m)) * (np.sum(((x @ weight) - y) ** 2))\n",
        "    \n",
        "    weight = weight[:,0]\n",
        "        \n",
        "    return weight, J_history\n",
        "    \n",
        "def prediction():\n",
        "    predict1 = [1,(164/np.max(matrix[:,0]))] @ theta #normalising the input value, 1 is for intercept term so not need to normalise\n",
        "    "
      ]
    },
    {
      "attachments": {},
      "cell_type": "markdown",
      "metadata": {},
      "source": [
        " test code"
      ]
    },
    {
      "attachments": {},
      "cell_type": "markdown",
      "metadata": {},
      "source": [
        "---"
      ]
    },
    {
      "cell_type": "code",
      "execution_count": null,
      "metadata": {},
      "outputs": [],
      "source": [
        "# m = np.size(y)\n",
        "# x = X.reshape([X.shape[0],X.shape[1]])\n",
        "# theta = np.zeros([X.shape[1],X.shape[0]])\n",
        "\n",
        "# print(LR_Cosfunction(x,y,theta))"
      ]
    },
    {
      "cell_type": "code",
      "execution_count": null,
      "metadata": {},
      "outputs": [],
      "source": [
        "# test , J = gradient(x,y,theta)"
      ]
    },
    {
      "cell_type": "code",
      "execution_count": null,
      "metadata": {},
      "outputs": [],
      "source": [
        "# plt.plot(X,y,'bo')\n",
        "# plt.plot(X,x@theta,'-')\n",
        "# plt.axis([0,1,3,7])\n",
        "# plt.grid()\n",
        "# plt.show()"
      ]
    },
    {
      "attachments": {},
      "cell_type": "markdown",
      "metadata": {},
      "source": [
        "---"
      ]
    },
    {
      "cell_type": "code",
      "execution_count": null,
      "metadata": {
        "id": "oXnpqeH_Wb5C"
      },
      "outputs": [],
      "source": [
        "# 여기서부터 코드를 작성하시오\n",
        "\n",
        "lr = 0.0001\n",
        "step = 0\n",
        "weight = np.zeros([X.shape[1],X.shape[0]])\n",
        "\n",
        "while (err > 25) :\n",
        "    \n",
        "    error = (x @ weight) - y\n",
        "    temp0 = weight[0] - ((lr / m) * np.sum(error * x [:,0]))\n",
        "    temp1 = weight[1] - ((lr / m) * np.sum(error * x[:,1]))\n",
        "    temp2 = weight[2] - ((lr / m) * np.sum(error * x[:,2]))\n",
        "    temp3 = weight[3] - ((lr / m) * np.sum(error * x [:,3]))\n",
        "    temp4 = weight[4] - ((lr / m) * np.sum(error * x[:,4]))\n",
        "    temp5 = weight[5] - ((lr / m) * np.sum(error * x [:,5]))\n",
        "    temp6 = weight[6] - ((lr / m) * np.sum(error * x[:,6]))\n",
        "    temp7 = weight[7] - ((lr / m) * np.sum(error * x [:,7]))        \n",
        "    temp8 = weight[8] - ((lr / m) * np.sum(error * x [:,8]))                                \n",
        "    weight = np.array([temp0, temp1,temp2,temp3,temp4,temp5,temp6,temp7,temp8]).reshape(x.shape[1],x.shape[0])    \n",
        "\n",
        "    err = mse(weight, X, y)\n",
        "    step += 1\n",
        "    if step % 10 == 0 :\n",
        "        print(\"[%d step] err : %f\" % (step, err))\n",
        "        print(\"current weight : \", weight)\n",
        "    \n",
        "print('\\ntotal step : ', step)\n",
        "print(\"weight: \", weight)\n",
        "print(\"err : \", err)"
      ]
    },
    {
      "cell_type": "markdown",
      "metadata": {
        "id": "rVk-1Ye2U0wL"
      },
      "source": [
        "### Normal Equation"
      ]
    },
    {
      "cell_type": "code",
      "execution_count": null,
      "metadata": {
        "id": "YjKHN8MEWuxN"
      },
      "outputs": [],
      "source": [
        "# 여기서부터 코드를 작성하시오\n",
        "theta = np.dot(np.linalg.inv(np.dot(X.T, X)), np.dot(X.T, y))\n",
        "\n",
        "\n",
        "mse(w, X, y)"
      ]
    },
    {
      "cell_type": "code",
      "execution_count": null,
      "metadata": {},
      "outputs": [],
      "source": [
        "def predict(X):\n",
        "    preds = np.dot(X, theta)\n",
        "    \n",
        "    return preds"
      ]
    },
    {
      "cell_type": "code",
      "execution_count": null,
      "metadata": {},
      "outputs": [],
      "source": [
        "normalization_data"
      ]
    },
    {
      "cell_type": "code",
      "execution_count": null,
      "metadata": {},
      "outputs": [],
      "source": [
        "from scipy.stats import pointbiserialr\n",
        "from math import sqrt\n",
        "\n",
        "def getMerit(subset, label):\n",
        "    k = len(subset)\n",
        "    \n",
        "    rcf_all = []\n",
        "    \n",
        "    for feature in subset:\n",
        "        coeff = pointbiserialr(df[label], df[feature])\n",
        "        rcf_all.append(abs(coeff.correlation))\n",
        "    rcf = np.mean(rcf_all)\n",
        "    \n",
        "    corr = df[subset].corr()\n",
        "    corr.values[np.tril_indices_from(corr.values)] = np.nan\n",
        "    corr = abs(corr)\n",
        "    rff = corr.unstack().mean()"
      ]
    }
  ],
  "metadata": {
    "colab": {
      "provenance": []
    },
    "kernelspec": {
      "display_name": "ml",
      "language": "python",
      "name": "python3"
    },
    "language_info": {
      "codemirror_mode": {
        "name": "ipython",
        "version": 3
      },
      "file_extension": ".py",
      "mimetype": "text/x-python",
      "name": "python",
      "nbconvert_exporter": "python",
      "pygments_lexer": "ipython3",
      "version": "3.9.16"
    },
    "vscode": {
      "interpreter": {
        "hash": "ac989702ee82cf85834fc904c407af640e06b0902e988e9cd8a067d885b3b790"
      }
    }
  },
  "nbformat": 4,
  "nbformat_minor": 0
}
