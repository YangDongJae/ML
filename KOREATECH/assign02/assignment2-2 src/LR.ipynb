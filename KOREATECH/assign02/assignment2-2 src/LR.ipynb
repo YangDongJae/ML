{
 "cells": [
  {
   "cell_type": "code",
   "execution_count": 156,
   "metadata": {},
   "outputs": [],
   "source": [
    "import numpy as np\n",
    "\n",
    "class LinearRegression:\n",
    "    def __init__(self, learning_rate = 0.01, n_iter = 1000):\n",
    "    \n",
    "        self.lr = learning_rate\n",
    "        self.iters = n_iter\n",
    "        self.weight = None\n",
    "        \n",
    "    def fit(self, X,y):\n",
    "        n_samples = len(X)\n",
    "        ones = np.ones(len(X))\n",
    "        features = np.c_[ones, X]\n",
    "        self.weight = np.zeros(features.shape[1])\n",
    "        \n",
    "        for i in range(self.iters):\n",
    "            \n",
    "            y_predicted = np.dot(features, self.weight.T)\n",
    "            error = y_predicted - y\n",
    "            \n",
    "            dw = (2 / n_samples) * np.dot(features.T, error)\n",
    "            self.lr = np.full((9,1030),self.lr)\n",
    "            \n",
    "            self.weight -= np.multiply(self.lr, dw)\n",
    "            \n",
    "            "
   ]
  },
  {
   "cell_type": "code",
   "execution_count": 157,
   "metadata": {},
   "outputs": [],
   "source": [
    "# data load\n",
    "\n",
    "import pandas as pd\n",
    "\n",
    "pd_data=pd.read_excel(\"Concrete_Data.xls\")\n"
   ]
  },
  {
   "cell_type": "code",
   "execution_count": 158,
   "metadata": {},
   "outputs": [],
   "source": [
    "normalization_data = (pd_data - pd_data.mean())/pd_data.std()\n",
    "np_data = normalization_data.to_numpy()\n",
    "X,y= np_data[:,:8], np_data[:,8:]"
   ]
  },
  {
   "cell_type": "code",
   "execution_count": 159,
   "metadata": {},
   "outputs": [],
   "source": [
    "def mse(y_true, y_pred):\n",
    "    return np.mean((y_true - y_pred) ** 2) * 0.5"
   ]
  },
  {
   "cell_type": "code",
   "execution_count": 160,
   "metadata": {},
   "outputs": [],
   "source": [
    "c = LinearRegression()"
   ]
  },
  {
   "cell_type": "code",
   "execution_count": 161,
   "metadata": {},
   "outputs": [
    {
     "ename": "ValueError",
     "evalue": "operands could not be broadcast together with shapes (9,) (9,1030) (9,) ",
     "output_type": "error",
     "traceback": [
      "\u001b[0;31m---------------------------------------------------------------------------\u001b[0m",
      "\u001b[0;31mValueError\u001b[0m                                Traceback (most recent call last)",
      "Cell \u001b[0;32mIn[161], line 1\u001b[0m\n\u001b[0;32m----> 1\u001b[0m c\u001b[39m.\u001b[39;49mfit(X,y)\n",
      "Cell \u001b[0;32mIn[156], line 24\u001b[0m, in \u001b[0;36mLinearRegression.fit\u001b[0;34m(self, X, y)\u001b[0m\n\u001b[1;32m     21\u001b[0m dw \u001b[39m=\u001b[39m (\u001b[39m2\u001b[39m \u001b[39m/\u001b[39m n_samples) \u001b[39m*\u001b[39m np\u001b[39m.\u001b[39mdot(features\u001b[39m.\u001b[39mT, error)\n\u001b[1;32m     22\u001b[0m \u001b[39mself\u001b[39m\u001b[39m.\u001b[39mlr \u001b[39m=\u001b[39m np\u001b[39m.\u001b[39mfull((\u001b[39m9\u001b[39m,\u001b[39m1030\u001b[39m),\u001b[39mself\u001b[39m\u001b[39m.\u001b[39mlr)\n\u001b[0;32m---> 24\u001b[0m \u001b[39mself\u001b[39m\u001b[39m.\u001b[39mweight \u001b[39m-\u001b[39m\u001b[39m=\u001b[39m np\u001b[39m.\u001b[39mmultiply(\u001b[39mself\u001b[39m\u001b[39m.\u001b[39mlr, dw)\n",
      "\u001b[0;31mValueError\u001b[0m: operands could not be broadcast together with shapes (9,) (9,1030) (9,) "
     ]
    }
   ],
   "source": [
    "c.fit(X,y)"
   ]
  },
  {
   "cell_type": "code",
   "execution_count": null,
   "metadata": {},
   "outputs": [],
   "source": []
  }
 ],
 "metadata": {
  "kernelspec": {
   "display_name": "ML",
   "language": "python",
   "name": "python3"
  },
  "language_info": {
   "codemirror_mode": {
    "name": "ipython",
    "version": 3
   },
   "file_extension": ".py",
   "mimetype": "text/x-python",
   "name": "python",
   "nbconvert_exporter": "python",
   "pygments_lexer": "ipython3",
   "version": "3.9.16"
  },
  "orig_nbformat": 4
 },
 "nbformat": 4,
 "nbformat_minor": 2
}
